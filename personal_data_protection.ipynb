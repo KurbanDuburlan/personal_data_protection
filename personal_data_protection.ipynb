{
 "cells": [
  {
   "cell_type": "markdown",
   "metadata": {
    "toc": true
   },
   "source": [
    "<h1>Содержание<span class=\"tocSkip\"></span></h1>\n",
    "<div class=\"toc\"><ul class=\"toc-item\"><li><span><a href=\"#Загрузка-данных\" data-toc-modified-id=\"Загрузка-данных-1\"><span class=\"toc-item-num\">1&nbsp;&nbsp;</span>Загрузка данных</a></span></li><li><span><a href=\"#Умножение-матриц\" data-toc-modified-id=\"Умножение-матриц-2\"><span class=\"toc-item-num\">2&nbsp;&nbsp;</span>Умножение матриц</a></span></li><li><span><a href=\"#Алгоритм-преобразования\" data-toc-modified-id=\"Алгоритм-преобразования-3\"><span class=\"toc-item-num\">3&nbsp;&nbsp;</span>Алгоритм преобразования</a></span></li><li><span><a href=\"#Проверка-алгоритма\" data-toc-modified-id=\"Проверка-алгоритма-4\"><span class=\"toc-item-num\">4&nbsp;&nbsp;</span>Проверка алгоритма</a></span></li><li><span><a href=\"#Чек-лист-проверки\" data-toc-modified-id=\"Чек-лист-проверки-5\"><span class=\"toc-item-num\">5&nbsp;&nbsp;</span>Чек-лист проверки</a></span></li></ul></div>"
   ]
  },
  {
   "cell_type": "markdown",
   "metadata": {},
   "source": [
    "# Защита персональных данных клиентов"
   ]
  },
  {
   "cell_type": "markdown",
   "metadata": {},
   "source": [
    "Вам нужно защитить данные клиентов страховой компании «Хоть потоп». Разработайте такой метод преобразования данных, чтобы по ним было сложно восстановить персональную информацию. Обоснуйте корректность его работы.\n",
    "\n",
    "Нужно защитить данные, чтобы при преобразовании качество моделей машинного обучения не ухудшилось. Подбирать наилучшую модель не требуется."
   ]
  },
  {
   "cell_type": "markdown",
   "metadata": {},
   "source": [
    "# Описание данных\n",
    "\n",
    "Признаки: пол, возраст и зарплата застрахованного, количество членов его семьи.\n",
    "\n",
    "Целевой признак: количество страховых выплат клиенту за последние 5 лет."
   ]
  },
  {
   "cell_type": "markdown",
   "metadata": {},
   "source": [
    "## Загрузка данных"
   ]
  },
  {
   "cell_type": "code",
   "execution_count": 1,
   "metadata": {},
   "outputs": [],
   "source": [
    "import pandas as pd\n",
    "import matplotlib.pyplot as plt\n",
    "import numpy as np\n",
    "from sklearn.metrics import r2_score\n",
    "from sklearn.linear_model import LinearRegression\n",
    "import matplotlib.pyplot as plt\n",
    "import seaborn as sns\n",
    "\n",
    "import warnings\n",
    "warnings.filterwarnings(\"ignore\")"
   ]
  },
  {
   "cell_type": "code",
   "execution_count": 2,
   "metadata": {},
   "outputs": [],
   "source": [
    "# data = pd.read_csv('/datasets/insurance.csv')\n",
    "try:\n",
    "    data = pd.read_csv('/datasets/insurance.csv')\n",
    "    # Дальнейшая обработка данных\n",
    "    # ...\n",
    "except FileNotFoundError:\n",
    "    print(\"Файл данных не найден.\")\n",
    "except pd.errors.ParserError:\n",
    "    print(\"Ошибка при чтении файла данных.\")"
   ]
  },
  {
   "cell_type": "code",
   "execution_count": 3,
   "metadata": {},
   "outputs": [
    {
     "data": {
      "text/html": [
       "<div>\n",
       "<style scoped>\n",
       "    .dataframe tbody tr th:only-of-type {\n",
       "        vertical-align: middle;\n",
       "    }\n",
       "\n",
       "    .dataframe tbody tr th {\n",
       "        vertical-align: top;\n",
       "    }\n",
       "\n",
       "    .dataframe thead th {\n",
       "        text-align: right;\n",
       "    }\n",
       "</style>\n",
       "<table border=\"1\" class=\"dataframe\">\n",
       "  <thead>\n",
       "    <tr style=\"text-align: right;\">\n",
       "      <th></th>\n",
       "      <th>Пол</th>\n",
       "      <th>Возраст</th>\n",
       "      <th>Зарплата</th>\n",
       "      <th>Члены семьи</th>\n",
       "      <th>Страховые выплаты</th>\n",
       "    </tr>\n",
       "  </thead>\n",
       "  <tbody>\n",
       "    <tr>\n",
       "      <th>0</th>\n",
       "      <td>1</td>\n",
       "      <td>41.0</td>\n",
       "      <td>49600.0</td>\n",
       "      <td>1</td>\n",
       "      <td>0</td>\n",
       "    </tr>\n",
       "    <tr>\n",
       "      <th>1</th>\n",
       "      <td>0</td>\n",
       "      <td>46.0</td>\n",
       "      <td>38000.0</td>\n",
       "      <td>1</td>\n",
       "      <td>1</td>\n",
       "    </tr>\n",
       "    <tr>\n",
       "      <th>2</th>\n",
       "      <td>0</td>\n",
       "      <td>29.0</td>\n",
       "      <td>21000.0</td>\n",
       "      <td>0</td>\n",
       "      <td>0</td>\n",
       "    </tr>\n",
       "    <tr>\n",
       "      <th>3</th>\n",
       "      <td>0</td>\n",
       "      <td>21.0</td>\n",
       "      <td>41700.0</td>\n",
       "      <td>2</td>\n",
       "      <td>0</td>\n",
       "    </tr>\n",
       "    <tr>\n",
       "      <th>4</th>\n",
       "      <td>1</td>\n",
       "      <td>28.0</td>\n",
       "      <td>26100.0</td>\n",
       "      <td>0</td>\n",
       "      <td>0</td>\n",
       "    </tr>\n",
       "    <tr>\n",
       "      <th>5</th>\n",
       "      <td>1</td>\n",
       "      <td>43.0</td>\n",
       "      <td>41000.0</td>\n",
       "      <td>2</td>\n",
       "      <td>1</td>\n",
       "    </tr>\n",
       "    <tr>\n",
       "      <th>6</th>\n",
       "      <td>1</td>\n",
       "      <td>39.0</td>\n",
       "      <td>39700.0</td>\n",
       "      <td>2</td>\n",
       "      <td>0</td>\n",
       "    </tr>\n",
       "    <tr>\n",
       "      <th>7</th>\n",
       "      <td>1</td>\n",
       "      <td>25.0</td>\n",
       "      <td>38600.0</td>\n",
       "      <td>4</td>\n",
       "      <td>0</td>\n",
       "    </tr>\n",
       "    <tr>\n",
       "      <th>8</th>\n",
       "      <td>1</td>\n",
       "      <td>36.0</td>\n",
       "      <td>49700.0</td>\n",
       "      <td>1</td>\n",
       "      <td>0</td>\n",
       "    </tr>\n",
       "    <tr>\n",
       "      <th>9</th>\n",
       "      <td>1</td>\n",
       "      <td>32.0</td>\n",
       "      <td>51700.0</td>\n",
       "      <td>1</td>\n",
       "      <td>0</td>\n",
       "    </tr>\n",
       "  </tbody>\n",
       "</table>\n",
       "</div>"
      ],
      "text/plain": [
       "   Пол  Возраст  Зарплата  Члены семьи  Страховые выплаты\n",
       "0    1     41.0   49600.0            1                  0\n",
       "1    0     46.0   38000.0            1                  1\n",
       "2    0     29.0   21000.0            0                  0\n",
       "3    0     21.0   41700.0            2                  0\n",
       "4    1     28.0   26100.0            0                  0\n",
       "5    1     43.0   41000.0            2                  1\n",
       "6    1     39.0   39700.0            2                  0\n",
       "7    1     25.0   38600.0            4                  0\n",
       "8    1     36.0   49700.0            1                  0\n",
       "9    1     32.0   51700.0            1                  0"
      ]
     },
     "execution_count": 3,
     "metadata": {},
     "output_type": "execute_result"
    }
   ],
   "source": [
    "data.head(10)"
   ]
  },
  {
   "cell_type": "code",
   "execution_count": 4,
   "metadata": {},
   "outputs": [
    {
     "name": "stdout",
     "output_type": "stream",
     "text": [
      "<class 'pandas.core.frame.DataFrame'>\n",
      "RangeIndex: 5000 entries, 0 to 4999\n",
      "Data columns (total 5 columns):\n",
      " #   Column             Non-Null Count  Dtype  \n",
      "---  ------             --------------  -----  \n",
      " 0   Пол                5000 non-null   int64  \n",
      " 1   Возраст            5000 non-null   float64\n",
      " 2   Зарплата           5000 non-null   float64\n",
      " 3   Члены семьи        5000 non-null   int64  \n",
      " 4   Страховые выплаты  5000 non-null   int64  \n",
      "dtypes: float64(2), int64(3)\n",
      "memory usage: 195.4 KB\n"
     ]
    }
   ],
   "source": [
    "data.info()"
   ]
  },
  {
   "cell_type": "code",
   "execution_count": 5,
   "metadata": {},
   "outputs": [
    {
     "data": {
      "text/plain": [
       "153"
      ]
     },
     "execution_count": 5,
     "metadata": {},
     "output_type": "execute_result"
    }
   ],
   "source": [
    "data.duplicated().sum()"
   ]
  },
  {
   "cell_type": "code",
   "execution_count": 6,
   "metadata": {},
   "outputs": [],
   "source": [
    "data = data.drop_duplicates()"
   ]
  },
  {
   "cell_type": "code",
   "execution_count": 7,
   "metadata": {},
   "outputs": [
    {
     "data": {
      "text/html": [
       "<div>\n",
       "<style scoped>\n",
       "    .dataframe tbody tr th:only-of-type {\n",
       "        vertical-align: middle;\n",
       "    }\n",
       "\n",
       "    .dataframe tbody tr th {\n",
       "        vertical-align: top;\n",
       "    }\n",
       "\n",
       "    .dataframe thead th {\n",
       "        text-align: right;\n",
       "    }\n",
       "</style>\n",
       "<table border=\"1\" class=\"dataframe\">\n",
       "  <thead>\n",
       "    <tr style=\"text-align: right;\">\n",
       "      <th></th>\n",
       "      <th>Пол</th>\n",
       "      <th>Возраст</th>\n",
       "      <th>Зарплата</th>\n",
       "      <th>Члены семьи</th>\n",
       "      <th>Страховые выплаты</th>\n",
       "    </tr>\n",
       "  </thead>\n",
       "  <tbody>\n",
       "    <tr>\n",
       "      <th>count</th>\n",
       "      <td>4847.000000</td>\n",
       "      <td>4847.000000</td>\n",
       "      <td>4847.000000</td>\n",
       "      <td>4847.000000</td>\n",
       "      <td>4847.000000</td>\n",
       "    </tr>\n",
       "    <tr>\n",
       "      <th>mean</th>\n",
       "      <td>0.498453</td>\n",
       "      <td>31.023932</td>\n",
       "      <td>39895.811842</td>\n",
       "      <td>1.203425</td>\n",
       "      <td>0.152259</td>\n",
       "    </tr>\n",
       "    <tr>\n",
       "      <th>std</th>\n",
       "      <td>0.500049</td>\n",
       "      <td>8.487995</td>\n",
       "      <td>9972.953985</td>\n",
       "      <td>1.098664</td>\n",
       "      <td>0.468934</td>\n",
       "    </tr>\n",
       "    <tr>\n",
       "      <th>min</th>\n",
       "      <td>0.000000</td>\n",
       "      <td>18.000000</td>\n",
       "      <td>5300.000000</td>\n",
       "      <td>0.000000</td>\n",
       "      <td>0.000000</td>\n",
       "    </tr>\n",
       "    <tr>\n",
       "      <th>25%</th>\n",
       "      <td>0.000000</td>\n",
       "      <td>24.000000</td>\n",
       "      <td>33200.000000</td>\n",
       "      <td>0.000000</td>\n",
       "      <td>0.000000</td>\n",
       "    </tr>\n",
       "    <tr>\n",
       "      <th>50%</th>\n",
       "      <td>0.000000</td>\n",
       "      <td>30.000000</td>\n",
       "      <td>40200.000000</td>\n",
       "      <td>1.000000</td>\n",
       "      <td>0.000000</td>\n",
       "    </tr>\n",
       "    <tr>\n",
       "      <th>75%</th>\n",
       "      <td>1.000000</td>\n",
       "      <td>37.000000</td>\n",
       "      <td>46600.000000</td>\n",
       "      <td>2.000000</td>\n",
       "      <td>0.000000</td>\n",
       "    </tr>\n",
       "    <tr>\n",
       "      <th>max</th>\n",
       "      <td>1.000000</td>\n",
       "      <td>65.000000</td>\n",
       "      <td>79000.000000</td>\n",
       "      <td>6.000000</td>\n",
       "      <td>5.000000</td>\n",
       "    </tr>\n",
       "  </tbody>\n",
       "</table>\n",
       "</div>"
      ],
      "text/plain": [
       "               Пол      Возраст      Зарплата  Члены семьи  Страховые выплаты\n",
       "count  4847.000000  4847.000000   4847.000000  4847.000000        4847.000000\n",
       "mean      0.498453    31.023932  39895.811842     1.203425           0.152259\n",
       "std       0.500049     8.487995   9972.953985     1.098664           0.468934\n",
       "min       0.000000    18.000000   5300.000000     0.000000           0.000000\n",
       "25%       0.000000    24.000000  33200.000000     0.000000           0.000000\n",
       "50%       0.000000    30.000000  40200.000000     1.000000           0.000000\n",
       "75%       1.000000    37.000000  46600.000000     2.000000           0.000000\n",
       "max       1.000000    65.000000  79000.000000     6.000000           5.000000"
      ]
     },
     "execution_count": 7,
     "metadata": {},
     "output_type": "execute_result"
    }
   ],
   "source": [
    "data.describe()"
   ]
  },
  {
   "cell_type": "code",
   "execution_count": 8,
   "metadata": {},
   "outputs": [
    {
     "data": {
      "image/png": "[encoded data removed]",
      "text/plain": [
       "<Figure size 432x288 with 1 Axes>"
      ]
     },
     "metadata": {
      "needs_background": "light"
     },
     "output_type": "display_data"
    }
   ],
   "source": [
    "# Гистограмма распределения возраста\n",
    "sns.histplot(data['Возраст'], bins=10, kde=True)\n",
    "plt.xlabel('Возраст')\n",
    "plt.ylabel('Частота')\n",
    "plt.title('Распределение возраста')\n",
    "plt.show()"
   ]
  },
  {
   "cell_type": "code",
   "execution_count": 9,
   "metadata": {},
   "outputs": [
    {
     "data": {
      "image/png": "[encoded data removed]",
      "text/plain": [
       "<Figure size 432x288 with 1 Axes>"
      ]
     },
     "metadata": {
      "needs_background": "light"
     },
     "output_type": "display_data"
    }
   ],
   "source": [
    "# Ящик с усами для зарплаты\n",
    "sns.boxplot(data['Зарплата'])\n",
    "plt.xlabel('Зарплата')\n",
    "plt.title('Ящик с усами для зарплаты')\n",
    "plt.show()"
   ]
  },
  {
   "cell_type": "code",
   "execution_count": 10,
   "metadata": {},
   "outputs": [
    {
     "data": {
      "image/png": "[encoded data removed]",
      "text/plain": [
       "<Figure size 432x288 with 1 Axes>"
      ]
     },
     "metadata": {},
     "output_type": "display_data"
    }
   ],
   "source": [
    "# Круговая диаграмма для пола\n",
    "gender_counts = data['Пол'].value_counts()\n",
    "plt.pie(gender_counts, labels=['Мужчины', 'Женщины'], autopct='%1.1f%%')\n",
    "plt.title('Соотношение полов')\n",
    "plt.show()"
   ]
  },
  {
   "cell_type": "code",
   "execution_count": 11,
   "metadata": {},
   "outputs": [
    {
     "data": {
      "image/png": "[encoded data removed]",
      "text/plain": [
       "<Figure size 432x288 with 1 Axes>"
      ]
     },
     "metadata": {
      "needs_background": "light"
     },
     "output_type": "display_data"
    }
   ],
   "source": [
    "# Диаграмма рассеяния между возрастом и страховыми выплатами\n",
    "sns.scatterplot(data['Возраст'], data['Страховые выплаты'])\n",
    "plt.xlabel('Возраст')\n",
    "plt.ylabel('Страховые выплаты')\n",
    "plt.title('Зависимость страховых выплат от возраста')\n",
    "plt.show()"
   ]
  },
  {
   "cell_type": "markdown",
   "metadata": {},
   "source": [
    "Дальнейшей предобработки не требуется "
   ]
  },
  {
   "cell_type": "markdown",
   "metadata": {},
   "source": [
    "## Умножение матриц"
   ]
  },
  {
   "cell_type": "markdown",
   "metadata": {},
   "source": [
    "В этом задании вы можете записывать формулы в *Jupyter Notebook.*\n",
    "\n",
    "Чтобы записать формулу внутри текста, окружите её символами доллара \\\\$; если снаружи —  двойными символами \\\\$\\\\$. Эти формулы записываются на языке вёрстки *LaTeX.* \n",
    "\n",
    "Для примера мы записали формулы линейной регрессии. Можете их скопировать и отредактировать, чтобы решить задачу.\n",
    "\n",
    "Работать в *LaTeX* необязательно."
   ]
  },
  {
   "cell_type": "markdown",
   "metadata": {},
   "source": [
    "Обозначения:\n",
    "\n",
    "- $X$ — матрица признаков (нулевой столбец состоит из единиц)\n",
    "\n",
    "- $y$ — вектор целевого признака\n",
    "\n",
    "- $P$ — матрица, на которую умножаются признаки\n",
    "\n",
    "- $w$ — вектор весов линейной регрессии (нулевой элемент равен сдвигу)"
   ]
  },
  {
   "cell_type": "markdown",
   "metadata": {},
   "source": [
    "Предсказания:\n",
    "\n",
    "$$\n",
    "a = Xw\n",
    "$$\n",
    "\n",
    "Задача обучения:\n",
    "\n",
    "$$\n",
    "w = \\arg\\min_w MSE(Xw, y)\n",
    "$$\n",
    "\n",
    "Формула обучения:\n",
    "\n",
    "$$\n",
    "w = (X^T X)^{-1} X^T y\n",
    "$$"
   ]
  },
  {
   "cell_type": "markdown",
   "metadata": {},
   "source": [
    "**Ответ:** не изменится\n",
    "\n",
    "**Обоснование:** В обоснование этого ответа, рассмотрим формулу обучения:\n",
    "\n",
    "Рассмотрим предсказания в исходной задаче:\n",
    "\n",
    "𝑎 = 𝑋𝑤\n",
    "\n",
    "При умножении матрицы признаков 𝑋 на обратимую матрицу 𝑃, получаем преобразованную матрицу признаков 𝑋':\n",
    "\n",
    "𝑋' = 𝑋𝑃\n",
    "\n",
    "Подставим 𝑋' в предсказания:\n",
    "\n",
    "𝑎' = 𝑋'𝑤\n",
    "\n",
    "Заменим 𝑋' на 𝑋𝑃:\n",
    "\n",
    "𝑎' = (𝑋𝑃)𝑤\n",
    "\n",
    "Раскроем скобки:\n",
    "\n",
    "𝑎' = 𝑋𝑃𝑤\n",
    "\n",
    "Обратим внимание, что 𝑃𝑤 представляет собой новый вектор весов 𝑤', полученный путем преобразования исходного вектора весов 𝑤 с использованием обратимой матрицы 𝑃:\n",
    "\n",
    "𝑤' = 𝑃𝑤\n",
    "\n",
    "Подставим эту замену в предсказания:\n",
    "\n",
    "𝑎' = 𝑋𝑤'\n",
    "\n",
    "Таким образом, видим, что предсказания 𝑎' на преобразованных признаках 𝑋' с использованием нового вектора весов 𝑤' остаются такими же, как и предсказания 𝑎 на исходных признаках 𝑋 с использованием исходного вектора весов 𝑤.\n",
    "\n",
    "Таким образом, качество линейной регрессии (оценка 𝑎) не изменится после умножения признаков на обратимую матрицу. Предсказания модели на преобразованных данных будут такими же, как и на исходных данных, при этом обратимость матрицы 𝑃 позволяет восстановить исходные данные из преобразованных данных, если это необходимо."
   ]
  },
  {
   "cell_type": "markdown",
   "metadata": {},
   "source": [
    "## Алгоритм преобразования"
   ]
  },
  {
   "cell_type": "markdown",
   "metadata": {},
   "source": [
    "Алгоритм преобразования данных может быть следующим:\n",
    "\n",
    "1. Отделение целевого признака от признаков. Пусть у нас есть матрица признаков X размера mxn и вектор целевого признака y размера m."
   ]
  },
  {
   "cell_type": "code",
   "execution_count": 12,
   "metadata": {},
   "outputs": [],
   "source": [
    "# Отделение целевого признака\n",
    "target = data['Страховые выплаты']\n",
    "features = data.drop('Страховые выплаты', axis=1)"
   ]
  },
  {
   "cell_type": "markdown",
   "metadata": {},
   "source": [
    "2. Создание случайной, обратимой матрицы P размера nxn. Матрица P может быть сгенерирована, например, случайными значениями или с использованием специальных методов, таких как QR-разложение или сингулярное разложение.\n"
   ]
  },
  {
   "cell_type": "markdown",
   "metadata": {},
   "source": [
    "3. Умножение матрицы признаков X на матрицу P. Получаем преобразованную матрицу признаков X' размера mxn."
   ]
  },
  {
   "cell_type": "code",
   "execution_count": 13,
   "metadata": {},
   "outputs": [],
   "source": [
    "# Создание случайной, обратимой матрицы P\n",
    "n = features.shape[1]  # количество признаков\n",
    "P = np.random.rand(n, n)\n",
    "while np.linalg.det(P) == 0:  # Проверка на обратимость матрицы\n",
    "    P = np.random.rand(n, n)"
   ]
  },
  {
   "cell_type": "code",
   "execution_count": 14,
   "metadata": {},
   "outputs": [],
   "source": [
    "# Преобразование признаков\n",
    "transformed_features = features @ P"
   ]
  },
  {
   "cell_type": "markdown",
   "metadata": {},
   "source": [
    "Алгоритм обоснование:\n",
    "\n",
    "Этот алгоритм преобразования данных позволяет сохранить линейные связи между признаками и целевым признаком, при этом обеспечивая обратимость преобразования. Матрица P, как обратимая матрица, гарантирует возможность восстановления исходных данных из преобразованных данных.\n",
    "\n",
    "Качество линейной регрессии не будет изменяться после преобразования, так как обучение модели на преобразованных данных будет учитывать новые признаки, но веса модели будут соответствовать новому представлению данных и останутся связанными с исходной моделью. Это позволяет сохранить качество предсказания модели без необходимости повторного обучения.\n",
    "\n",
    "Важно отметить, что для успешного преобразования требуется использовать обратимую матрицу P. Это гарантирует, что исходные данные можно точно восстановить из преобразованных данных."
   ]
  },
  {
   "cell_type": "markdown",
   "metadata": {},
   "source": [
    "## Проверка алгоритма"
   ]
  },
  {
   "cell_type": "code",
   "execution_count": 15,
   "metadata": {},
   "outputs": [],
   "source": [
    "# Создание и обучение модели на исходных данных\n",
    "model_original = LinearRegression()\n",
    "model_original.fit(features, target)\n",
    "predictions_original = model_original.predict(features)\n",
    "r2_original = r2_score(target, predictions_original)"
   ]
  },
  {
   "cell_type": "code",
   "execution_count": 16,
   "metadata": {},
   "outputs": [],
   "source": [
    "# Создание и обучение модели на преобразованных данных\n",
    "model_transformed = LinearRegression()\n",
    "model_transformed.fit(transformed_features, target)\n",
    "predictions_transformed = model_transformed.predict(transformed_features)\n",
    "r2_transformed = r2_score(target, predictions_transformed)"
   ]
  },
  {
   "cell_type": "code",
   "execution_count": 17,
   "metadata": {},
   "outputs": [
    {
     "name": "stdout",
     "output_type": "stream",
     "text": [
      "R2 на исходных данных: 0.4302010044852066\n",
      "R2 на преобразованных данных: 0.43020100448467535\n"
     ]
    }
   ],
   "source": [
    "# Печать метрик R2\n",
    "print(\"R2 на исходных данных:\", r2_original)\n",
    "print(\"R2 на преобразованных данных:\", r2_transformed)"
   ]
  },
  {
   "cell_type": "markdown",
   "metadata": {},
   "source": [
    "# Вывод \n",
    "\n",
    "Полученные значения R2 на исходных и преобразованных данных практически идентичны. Различие в значениях R2 между исходными и преобразованными данными очень мало, что указывает на то, что качество линейной регрессии не отличается после применения описанного алгоритма преобразования."
   ]
  }
 ],
 "metadata": {
  "ExecuteTimeLog": [
   {
    "duration": 513,
    "start_time": "2023-06-25T17:12:40.696Z"
   },
   {
    "duration": 287,
    "start_time": "2023-06-25T17:15:29.643Z"
   },
   {
    "duration": 480,
    "start_time": "2023-06-25T18:27:24.874Z"
   },
   {
    "duration": 27,
    "start_time": "2023-06-25T18:27:47.273Z"
   },
   {
    "duration": 33,
    "start_time": "2023-06-25T18:35:36.701Z"
   },
   {
    "duration": 16,
    "start_time": "2023-06-25T18:35:40.718Z"
   },
   {
    "duration": 21,
    "start_time": "2023-06-25T18:35:51.181Z"
   },
   {
    "duration": 7,
    "start_time": "2023-06-25T18:36:40.039Z"
   },
   {
    "duration": 19,
    "start_time": "2023-06-25T18:37:01.218Z"
   },
   {
    "duration": 32,
    "start_time": "2023-06-25T18:37:22.946Z"
   },
   {
    "duration": 6,
    "start_time": "2023-06-25T18:37:59.746Z"
   },
   {
    "duration": 32,
    "start_time": "2023-06-25T18:38:13.559Z"
   },
   {
    "duration": 44,
    "start_time": "2023-06-25T18:41:11.336Z"
   },
   {
    "duration": 143,
    "start_time": "2023-06-25T19:18:13.715Z"
   },
   {
    "duration": 3254,
    "start_time": "2023-06-25T19:18:33.204Z"
   },
   {
    "duration": 41,
    "start_time": "2023-06-25T19:18:36.461Z"
   },
   {
    "duration": 41,
    "start_time": "2023-06-25T19:18:36.512Z"
   },
   {
    "duration": 31,
    "start_time": "2023-06-25T19:18:36.564Z"
   },
   {
    "duration": 17,
    "start_time": "2023-06-25T19:18:36.604Z"
   },
   {
    "duration": 11,
    "start_time": "2023-06-25T19:18:36.629Z"
   },
   {
    "duration": 46,
    "start_time": "2023-06-25T19:18:36.649Z"
   },
   {
    "duration": 17,
    "start_time": "2023-06-25T19:18:36.703Z"
   },
   {
    "duration": 23,
    "start_time": "2023-06-25T19:20:40.797Z"
   },
   {
    "duration": 2377,
    "start_time": "2023-06-25T19:29:15.219Z"
   },
   {
    "duration": 71,
    "start_time": "2023-06-25T19:29:17.616Z"
   },
   {
    "duration": 30,
    "start_time": "2023-06-25T19:29:17.691Z"
   },
   {
    "duration": 29,
    "start_time": "2023-06-25T19:29:17.731Z"
   },
   {
    "duration": 29,
    "start_time": "2023-06-25T19:29:17.767Z"
   },
   {
    "duration": 21,
    "start_time": "2023-06-25T19:29:17.801Z"
   },
   {
    "duration": 112,
    "start_time": "2023-06-25T19:29:17.832Z"
   },
   {
    "duration": 17,
    "start_time": "2023-06-25T19:29:17.947Z"
   },
   {
    "duration": 68,
    "start_time": "2023-06-25T19:29:17.967Z"
   },
   {
    "duration": 32,
    "start_time": "2023-06-25T19:29:18.047Z"
   },
   {
    "duration": 33,
    "start_time": "2023-06-25T19:29:18.085Z"
   },
   {
    "duration": 13,
    "start_time": "2023-06-25T19:29:18.120Z"
   },
   {
    "duration": 139,
    "start_time": "2023-06-25T19:29:18.135Z"
   },
   {
    "duration": 17,
    "start_time": "2023-06-25T19:29:18.305Z"
   },
   {
    "duration": 2538,
    "start_time": "2023-06-25T19:39:17.633Z"
   },
   {
    "duration": 105,
    "start_time": "2023-06-25T19:39:20.174Z"
   },
   {
    "duration": 42,
    "start_time": "2023-06-25T19:39:20.297Z"
   },
   {
    "duration": 31,
    "start_time": "2023-06-25T19:39:20.341Z"
   },
   {
    "duration": 55,
    "start_time": "2023-06-25T19:39:20.389Z"
   },
   {
    "duration": 53,
    "start_time": "2023-06-25T19:39:20.460Z"
   },
   {
    "duration": 105,
    "start_time": "2023-06-25T19:39:20.526Z"
   },
   {
    "duration": 183,
    "start_time": "2023-06-25T19:39:20.645Z"
   },
   {
    "duration": 1297,
    "start_time": "2023-06-25T23:19:55.291Z"
   },
   {
    "duration": 28,
    "start_time": "2023-06-25T23:19:56.591Z"
   },
   {
    "duration": 13,
    "start_time": "2023-06-25T23:19:56.621Z"
   },
   {
    "duration": 15,
    "start_time": "2023-06-25T23:19:56.636Z"
   },
   {
    "duration": 7,
    "start_time": "2023-06-25T23:19:56.653Z"
   },
   {
    "duration": 7,
    "start_time": "2023-06-25T23:19:56.662Z"
   },
   {
    "duration": 26,
    "start_time": "2023-06-25T23:19:56.671Z"
   },
   {
    "duration": 61,
    "start_time": "2023-06-25T23:19:56.699Z"
   },
   {
    "duration": 1658,
    "start_time": "2023-06-26T16:09:00.952Z"
   },
   {
    "duration": 86,
    "start_time": "2023-06-26T16:09:02.612Z"
   },
   {
    "duration": 13,
    "start_time": "2023-06-26T16:09:02.700Z"
   },
   {
    "duration": 10,
    "start_time": "2023-06-26T16:09:02.714Z"
   },
   {
    "duration": 5,
    "start_time": "2023-06-26T16:09:02.726Z"
   },
   {
    "duration": 5,
    "start_time": "2023-06-26T16:09:02.732Z"
   },
   {
    "duration": 25,
    "start_time": "2023-06-26T16:09:02.738Z"
   },
   {
    "duration": 1641,
    "start_time": "2023-06-26T16:09:02.765Z"
   },
   {
    "duration": 0,
    "start_time": "2023-06-26T16:09:04.408Z"
   },
   {
    "duration": 0,
    "start_time": "2023-06-26T16:09:04.409Z"
   },
   {
    "duration": 0,
    "start_time": "2023-06-26T16:09:04.411Z"
   },
   {
    "duration": 1315,
    "start_time": "2023-06-26T16:11:35.703Z"
   },
   {
    "duration": 28,
    "start_time": "2023-06-26T16:11:37.021Z"
   },
   {
    "duration": 14,
    "start_time": "2023-06-26T16:11:37.050Z"
   },
   {
    "duration": 11,
    "start_time": "2023-06-26T16:11:37.066Z"
   },
   {
    "duration": 6,
    "start_time": "2023-06-26T16:11:37.079Z"
   },
   {
    "duration": 5,
    "start_time": "2023-06-26T16:11:37.087Z"
   },
   {
    "duration": 21,
    "start_time": "2023-06-26T16:11:37.093Z"
   },
   {
    "duration": 182,
    "start_time": "2023-06-26T16:11:37.116Z"
   },
   {
    "duration": 104,
    "start_time": "2023-06-26T16:11:37.300Z"
   },
   {
    "duration": 78,
    "start_time": "2023-06-26T16:11:37.405Z"
   },
   {
    "duration": 141,
    "start_time": "2023-06-26T16:11:37.484Z"
   },
   {
    "duration": 249,
    "start_time": "2023-06-26T16:11:37.627Z"
   },
   {
    "duration": 1450,
    "start_time": "2023-06-26T16:19:08.892Z"
   },
   {
    "duration": 29,
    "start_time": "2023-06-26T16:19:10.344Z"
   },
   {
    "duration": 14,
    "start_time": "2023-06-26T16:19:10.374Z"
   },
   {
    "duration": 12,
    "start_time": "2023-06-26T16:19:10.390Z"
   },
   {
    "duration": 5,
    "start_time": "2023-06-26T16:19:10.404Z"
   },
   {
    "duration": 4,
    "start_time": "2023-06-26T16:19:10.411Z"
   },
   {
    "duration": 28,
    "start_time": "2023-06-26T16:19:10.417Z"
   },
   {
    "duration": 170,
    "start_time": "2023-06-26T16:19:10.459Z"
   },
   {
    "duration": 107,
    "start_time": "2023-06-26T16:19:10.630Z"
   },
   {
    "duration": 70,
    "start_time": "2023-06-26T16:19:10.739Z"
   },
   {
    "duration": 137,
    "start_time": "2023-06-26T16:19:10.810Z"
   },
   {
    "duration": 11,
    "start_time": "2023-06-26T16:19:10.949Z"
   },
   {
    "duration": 14,
    "start_time": "2023-06-26T16:19:10.962Z"
   },
   {
    "duration": 90,
    "start_time": "2023-06-26T16:19:10.978Z"
   },
   {
    "duration": 7,
    "start_time": "2023-06-26T16:19:11.160Z"
   },
   {
    "duration": 81,
    "start_time": "2023-06-26T16:28:22.789Z"
   },
   {
    "duration": 1407,
    "start_time": "2023-06-26T16:28:53.518Z"
   },
   {
    "duration": 29,
    "start_time": "2023-06-26T16:28:54.927Z"
   },
   {
    "duration": 13,
    "start_time": "2023-06-26T16:28:54.958Z"
   },
   {
    "duration": 11,
    "start_time": "2023-06-26T16:28:54.973Z"
   },
   {
    "duration": 7,
    "start_time": "2023-06-26T16:28:54.986Z"
   },
   {
    "duration": 8,
    "start_time": "2023-06-26T16:28:54.995Z"
   },
   {
    "duration": 27,
    "start_time": "2023-06-26T16:28:55.005Z"
   },
   {
    "duration": 185,
    "start_time": "2023-06-26T16:28:55.033Z"
   },
   {
    "duration": 108,
    "start_time": "2023-06-26T16:28:55.219Z"
   },
   {
    "duration": 72,
    "start_time": "2023-06-26T16:28:55.329Z"
   },
   {
    "duration": 156,
    "start_time": "2023-06-26T16:28:55.403Z"
   },
   {
    "duration": 4,
    "start_time": "2023-06-26T16:28:55.561Z"
   },
   {
    "duration": 5,
    "start_time": "2023-06-26T16:28:55.567Z"
   },
   {
    "duration": 10,
    "start_time": "2023-06-26T16:28:55.574Z"
   },
   {
    "duration": 79,
    "start_time": "2023-06-26T16:28:55.585Z"
   },
   {
    "duration": 97,
    "start_time": "2023-06-26T16:28:55.666Z"
   },
   {
    "duration": 92,
    "start_time": "2023-06-26T16:28:55.769Z"
   },
   {
    "duration": 85,
    "start_time": "2023-06-26T16:34:32.682Z"
   },
   {
    "duration": 101,
    "start_time": "2023-06-26T16:35:01.239Z"
   },
   {
    "duration": 1516,
    "start_time": "2023-06-26T16:36:13.645Z"
   },
   {
    "duration": 29,
    "start_time": "2023-06-26T16:36:15.164Z"
   },
   {
    "duration": 13,
    "start_time": "2023-06-26T16:36:15.194Z"
   },
   {
    "duration": 12,
    "start_time": "2023-06-26T16:36:15.209Z"
   },
   {
    "duration": 4,
    "start_time": "2023-06-26T16:36:15.224Z"
   },
   {
    "duration": 14,
    "start_time": "2023-06-26T16:36:15.230Z"
   },
   {
    "duration": 26,
    "start_time": "2023-06-26T16:36:15.246Z"
   },
   {
    "duration": 164,
    "start_time": "2023-06-26T16:36:15.273Z"
   },
   {
    "duration": 130,
    "start_time": "2023-06-26T16:36:15.439Z"
   },
   {
    "duration": 66,
    "start_time": "2023-06-26T16:36:15.571Z"
   },
   {
    "duration": 158,
    "start_time": "2023-06-26T16:36:15.639Z"
   },
   {
    "duration": 4,
    "start_time": "2023-06-26T16:36:15.799Z"
   },
   {
    "duration": 11,
    "start_time": "2023-06-26T16:36:15.805Z"
   },
   {
    "duration": 13,
    "start_time": "2023-06-26T16:36:15.818Z"
   },
   {
    "duration": 28,
    "start_time": "2023-06-26T16:36:15.832Z"
   },
   {
    "duration": 98,
    "start_time": "2023-06-26T16:36:15.862Z"
   },
   {
    "duration": 5,
    "start_time": "2023-06-26T16:36:15.962Z"
   }
  ],
  "kernelspec": {
   "display_name": "Python 3 (ipykernel)",
   "language": "python",
   "name": "python3"
  },
  "language_info": {
   "codemirror_mode": {
    "name": "ipython",
    "version": 3
   },
   "file_extension": ".py",
   "mimetype": "text/x-python",
   "name": "python",
   "nbconvert_exporter": "python",
   "pygments_lexer": "ipython3",
   "version": "3.9.5"
  },
  "toc": {
   "base_numbering": 1,
   "nav_menu": {},
   "number_sections": true,
   "sideBar": false,
   "skip_h1_title": true,
   "title_cell": "Содержание",
   "title_sidebar": "Contents",
   "toc_cell": true,
   "toc_position": {
    "height": "47.6875px",
    "left": "236px",
    "top": "109.125px",
    "width": "159px"
   },
   "toc_section_display": false,
   "toc_window_display": true
  }
 },
 "nbformat": 4,
 "nbformat_minor": 2
}
